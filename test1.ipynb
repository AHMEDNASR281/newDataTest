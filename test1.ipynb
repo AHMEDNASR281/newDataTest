{
 "cells": [
  {
   "cell_type": "code",
   "execution_count": 2,
   "metadata": {},
   "outputs": [],
   "source": [
    "import pandas as pd\n",
    "import numpy as np\n",
    "import plotly.express as px\n",
    "from matplotlib import pyplot as plt \n",
    "import seaborn as sns\n",
    "\n",
    "pd.options.display.float_format = '{:,.2f}'.format \n",
    "pd.options.display.max_rows = None \n",
    "pd.options.display.max_columns = None "
   ]
  },
  {
   "cell_type": "code",
   "execution_count": 3,
   "metadata": {},
   "outputs": [],
   "source": [
    "#wrangle fun \n",
    "def wrangle (filename , encoding , dropna_column_names= None , change_columns_names= None , date_column = None , remove_duplicated_rows_in_col = []):\n",
    "    #loading data from csv\n",
    "    df = pd.read_csv(filename ,encoding= encoding)\n",
    "    \n",
    "    #delete NaN rows in column orderid\n",
    "    df.dropna(subset= dropna_column_names ,inplace=True)\n",
    "    \n",
    "    #Rename columns \n",
    "    df = df.rename(columns= change_columns_names )\n",
    "    \n",
    "    #change orderDate type to datetime \n",
    "    df[date_column] = pd.to_datetime(df[date_column])\n",
    "    \n",
    "    #drop duplicated rows\n",
    "    df = df.drop_duplicates(subset= remove_duplicated_rows_in_col)\n",
    "    \n",
    "    # strip and lower case column \n",
    "    df.columns = df.columns.str.strip().str.lower()\n",
    "   \n",
    "    \n",
    "    return df\n",
    "    \n",
    "   "
   ]
  },
  {
   "cell_type": "code",
   "execution_count": 4,
   "metadata": {},
   "outputs": [
    {
     "name": "stdout",
     "output_type": "stream",
     "text": [
      "<class 'pandas.core.frame.DataFrame'>\n",
      "Int64Index: 830 entries, 0 to 2130\n",
      "Data columns (total 22 columns):\n",
      " #   Column          Non-Null Count  Dtype         \n",
      "---  ------          --------------  -----         \n",
      " 0   customerid      830 non-null    float64       \n",
      " 1   firstname       830 non-null    object        \n",
      " 2   lastname        830 non-null    object        \n",
      " 3   city            830 non-null    object        \n",
      " 4   country         830 non-null    object        \n",
      " 5   phone           830 non-null    object        \n",
      " 6   orderid         830 non-null    float64       \n",
      " 7   orderdate       830 non-null    datetime64[ns]\n",
      " 8   ordernumber     830 non-null    float64       \n",
      " 9   totalamount     830 non-null    float64       \n",
      " 10  productid       830 non-null    float64       \n",
      " 11  productname     830 non-null    object        \n",
      " 12  unitprice       830 non-null    float64       \n",
      " 13  package         830 non-null    object        \n",
      " 14  isdiscontinued  830 non-null    object        \n",
      " 15  supplierid      830 non-null    float64       \n",
      " 16  companyname     830 non-null    object        \n",
      " 17  contactname     830 non-null    object        \n",
      " 18  suppcity        830 non-null    object        \n",
      " 19  suppcountry     830 non-null    object        \n",
      " 20  suppphone       830 non-null    object        \n",
      " 21  fax             318 non-null    object        \n",
      "dtypes: datetime64[ns](1), float64(7), object(14)\n",
      "memory usage: 149.1+ KB\n"
     ]
    }
   ],
   "source": [
    "#loading data \n",
    "orders = wrangle('all_data.csv' , \"latin-1\" ,dropna_column_names=['OrderID'] , change_columns_names={'City.1' : 'SuppCity', 'Country.1' : 'SuppCountry' , 'Phone.1' : 'SuppPhone'} , date_column = 'OrderDate' , remove_duplicated_rows_in_col = ['OrderID'])\n",
    "for cols in orders.columns:\n",
    "    if 'ID' in cols or 'OrderNumber' in cols : \n",
    "        orders[cols] = orders[cols].astype(int)\n",
    "orders.info()"
   ]
  },
  {
   "cell_type": "code",
   "execution_count": 5,
   "metadata": {},
   "outputs": [
    {
     "data": {
      "text/plain": [
       "count      830.00\n",
       "mean     1,631.88\n",
       "std      1,990.61\n",
       "min         12.50\n",
       "25%        480.00\n",
       "50%      1,015.90\n",
       "75%      2,028.65\n",
       "max     17,250.00\n",
       "Name: totalamount, dtype: float64"
      ]
     },
     "execution_count": 5,
     "metadata": {},
     "output_type": "execute_result"
    }
   ],
   "source": [
    "#Describe TotalAmount col\n",
    "orders.totalamount.describe()"
   ]
  },
  {
   "cell_type": "code",
   "execution_count": null,
   "metadata": {},
   "outputs": [],
   "source": []
  },
  {
   "cell_type": "code",
   "execution_count": null,
   "metadata": {},
   "outputs": [],
   "source": [
    "\n",
    "\n",
    "\n"
   ]
  },
  {
   "cell_type": "code",
   "execution_count": null,
   "metadata": {},
   "outputs": [],
   "source": []
  },
  {
   "cell_type": "code",
   "execution_count": null,
   "metadata": {},
   "outputs": [],
   "source": []
  },
  {
   "cell_type": "code",
   "execution_count": null,
   "metadata": {},
   "outputs": [],
   "source": []
  },
  {
   "cell_type": "code",
   "execution_count": null,
   "metadata": {},
   "outputs": [],
   "source": []
  }
 ],
 "metadata": {
  "kernelspec": {
   "display_name": "newenv",
   "language": "python",
   "name": "python3"
  },
  "language_info": {
   "codemirror_mode": {
    "name": "ipython",
    "version": 3
   },
   "file_extension": ".py",
   "mimetype": "text/x-python",
   "name": "python",
   "nbconvert_exporter": "python",
   "pygments_lexer": "ipython3",
   "version": "3.11.3"
  },
  "orig_nbformat": 4
 },
 "nbformat": 4,
 "nbformat_minor": 2
}
