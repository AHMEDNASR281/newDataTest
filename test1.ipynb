{
 "cells": [
  {
   "cell_type": "code",
   "execution_count": null,
   "metadata": {},
   "outputs": [],
   "source": [
    "import pandas as pd\n",
    "import numpy as np\n",
    "import plotly.express as px\n",
    "from matplotlib import pyplot as plt \n",
    "import seaborn as sns\n",
    "\n",
    "pd.options.display.float_format = '{:,.2f}'.format \n",
    "pd.options.display.max_rows = None \n",
    "pd.options.display.max_columns = None \n",
    "sns.set()"
   ]
  },
  {
   "cell_type": "code",
   "execution_count": null,
   "metadata": {},
   "outputs": [],
   "source": [
    "#wrangle fun \n",
    "def wrangle (filename , encoding , dropna_column_names= None , change_columns_names= None , date_column = None , remove_duplicated_rows_in_col = []):\n",
    "    #loading data from csv\n",
    "    df = pd.read_csv(filename ,encoding= encoding)\n",
    "    \n",
    "    #delete NaN rows in column orderid\n",
    "    df.dropna(subset= dropna_column_names ,inplace=True)\n",
    "    \n",
    "    #Rename columns \n",
    "    df = df.rename(columns= change_columns_names )\n",
    "    \n",
    "    #change orderDate type to datetime \n",
    "    df[date_column] = pd.to_datetime(df[date_column])\n",
    "    \n",
    "    #drop duplicated rows\n",
    "    df = df.drop_duplicates(subset= remove_duplicated_rows_in_col)\n",
    "    \n",
    "    # strip and lower case column \n",
    "    df.columns = df.columns.str.strip().str.lower()\n",
    "   \n",
    "    \n",
    "    return df\n",
    "    \n",
    "   "
   ]
  },
  {
   "cell_type": "code",
   "execution_count": null,
   "metadata": {},
   "outputs": [],
   "source": [
    "#loading data \n",
    "orders = wrangle('all_data.csv' , \"latin-1\" ,dropna_column_names=['OrderID'] , change_columns_names={'City.1' : 'SuppCity', 'Country.1' : 'SuppCountry' , 'Phone.1' : 'SuppPhone'} , date_column = 'OrderDate' , remove_duplicated_rows_in_col = ['OrderID'])\n",
    "for cols in orders.columns:\n",
    "    if 'ID' in cols or 'OrderNumber' in cols : \n",
    "        orders[cols] = orders[cols].astype(int)\n",
    "        \n",
    "orders = orders[['customerid','firstname','lastname','city','country','orderid','ordernumber','orderdate','totalamount']]\n",
    "orders.info()"
   ]
  },
  {
   "cell_type": "code",
   "execution_count": null,
   "metadata": {},
   "outputs": [],
   "source": [
    "#Describe TotalAmount col\n",
    "orders.totalamount.describe()"
   ]
  },
  {
   "cell_type": "code",
   "execution_count": null,
   "metadata": {},
   "outputs": [],
   "source": [
    "#Data shape\n",
    "sns.histplot(data=orders , x='totalamount',kde=True)\n",
    "plt.title('Distribution of total amount')\n",
    "plt.xlabel('total amount')\n",
    "plt.ylabel('frequency')\n",
    "plt.axvline(orders.totalamount.mean() , color='red')\n",
    "plt.axvline(orders.totalamount.median() , color='black')\n",
    "\n"
   ]
  },
  {
   "cell_type": "code",
   "execution_count": null,
   "metadata": {},
   "outputs": [],
   "source": [
    "min = orders.totalamount.min() \n",
    "q1 = orders.totalamount.quantile(0.25) \n",
    "q2 = orders.totalamount.median() \n",
    "q3 = orders.totalamount.quantile(0.75) \n",
    "IQR = q3-q1 \n",
    "lb = q1-(1.5*IQR)\n",
    "ub = q3+(1.5*IQR)\n",
    "\n",
    "print(f'min= {min} , q1= {q1} , q2= {q2} , q3= {q3} , IQR= {IQR} , LB= {lb : .3f} , UB= {ub}')\n",
    "\n",
    "\n",
    "\n",
    "\n",
    "\n",
    "\n"
   ]
  },
  {
   "cell_type": "code",
   "execution_count": null,
   "metadata": {},
   "outputs": [],
   "source": [
    "sns.boxplot(data=orders , x='totalamount')"
   ]
  },
  {
   "cell_type": "code",
   "execution_count": null,
   "metadata": {},
   "outputs": [],
   "source": [
    "px.box(data_frame=orders , x='totalamount')"
   ]
  },
  {
   "cell_type": "code",
   "execution_count": null,
   "metadata": {},
   "outputs": [],
   "source": [
    "orders[orders.totalamount>15000].count() "
   ]
  },
  {
   "cell_type": "code",
   "execution_count": null,
   "metadata": {},
   "outputs": [],
   "source": [
    "orders = orders[orders.totalamount<15000]"
   ]
  },
  {
   "cell_type": "code",
   "execution_count": null,
   "metadata": {},
   "outputs": [],
   "source": [
    "orders.info() "
   ]
  },
  {
   "cell_type": "code",
   "execution_count": null,
   "metadata": {},
   "outputs": [],
   "source": [
    "orders.city.value_counts()"
   ]
  },
  {
   "cell_type": "code",
   "execution_count": null,
   "metadata": {},
   "outputs": [],
   "source": [
    "px.bar(data_frame=orders.city.value_counts() , title='Distribution of cities')"
   ]
  },
  {
   "cell_type": "code",
   "execution_count": null,
   "metadata": {},
   "outputs": [],
   "source": [
    "px.bar(data_frame=orders.country.value_counts() , title='Distribution of countries')\n"
   ]
  },
  {
   "cell_type": "code",
   "execution_count": null,
   "metadata": {},
   "outputs": [],
   "source": [
    "px.pie(data_frame=orders , names='country' , title='Distribution of countries')\n"
   ]
  },
  {
   "cell_type": "markdown",
   "metadata": {},
   "source": [
    " <h1> BI Variate analysis <h1>"
   ]
  },
  {
   "cell_type": "code",
   "execution_count": null,
   "metadata": {},
   "outputs": [],
   "source": [
    "orders.groupby('country' , as_index=False)['totalamount'].sum().sort_values('totalamount' , ascending=False)"
   ]
  },
  {
   "cell_type": "code",
   "execution_count": null,
   "metadata": {},
   "outputs": [],
   "source": [
    "def plots(columnname , Top10=False):\n",
    "    \n",
    "    #Proportion of each country's total amount = sum of total amount of each country / sum of all total amount \n",
    "    prop = orders.groupby(columnname , as_index =False)['totalamount'].sum()\n",
    "    prop['proportion'] = (prop.totalamount / orders.totalamount.sum())*100\n",
    "    prop = prop.sort_values('proportion' , ascending=False)\n",
    "    print('Descripe of all Total amount values' , prop.totalamount.describe())\n",
    "    \n",
    "    if Top10==True: \n",
    "        prop = prop.head(10)\n",
    "        \n",
    "    fig1 = px.bar(data_frame=prop , x= columnname , y='totalamount')\n",
    "    fig2 = px.pie(data_frame=prop , names= columnname , values='totalamount')\n",
    "    \n",
    "    fig1.show()\n",
    "    fig2.show()"
   ]
  },
  {
   "cell_type": "code",
   "execution_count": null,
   "metadata": {},
   "outputs": [],
   "source": [
    "plots(\"city\", Top10=True)"
   ]
  },
  {
   "cell_type": "markdown",
   "metadata": {},
   "source": [
    "<h3><u>Time Series analysis </u> <h3>\n",
    "<ul>\n",
    "  <li><p> OrderDate vs Total Amount analysis <p></li>\n",
    "</ul>"
   ]
  },
  {
   "cell_type": "code",
   "execution_count": null,
   "metadata": {},
   "outputs": [],
   "source": [
    "date_total = orders[['orderdate' , 'totalamount']]\n",
    "date_total = date_total.set_index('orderdate')"
   ]
  },
  {
   "cell_type": "code",
   "execution_count": null,
   "metadata": {},
   "outputs": [],
   "source": [
    "px.line(data_frame= date_total)"
   ]
  },
  {
   "cell_type": "markdown",
   "metadata": {},
   "source": [
    "<ul>\n",
    "  <li><p> OrderDate vs Total Amount analysis <p></li>\n",
    "</ul>"
   ]
  },
  {
   "cell_type": "code",
   "execution_count": null,
   "metadata": {},
   "outputs": [],
   "source": [
    "date_country = orders[['orderdate' , 'country']]\n",
    "date_country = date_country.set_index('orderdate')\n",
    "date_country = date_country.country.resample(rule='1M').nunique()\n"
   ]
  },
  {
   "cell_type": "code",
   "execution_count": null,
   "metadata": {},
   "outputs": [],
   "source": [
    "px.line(data_frame= date_country , y='country')\n"
   ]
  },
  {
   "cell_type": "markdown",
   "metadata": {},
   "source": [
    "<ul>\n",
    "  <li><p> Customers vs Total Amount analysis <p></li>\n",
    "</ul>"
   ]
  },
  {
   "cell_type": "code",
   "execution_count": null,
   "metadata": {},
   "outputs": [],
   "source": [
    "cust_orders = {\n",
    "    'fullname': orders.firstname + ' '+orders.lastname, \n",
    "    'totalamount': orders.totalamount\n",
    "}\n",
    "\n",
    "cust_orders= pd.DataFrame(cust_orders)\n",
    "cust_orders.sample(5)"
   ]
  },
  {
   "cell_type": "code",
   "execution_count": null,
   "metadata": {},
   "outputs": [],
   "source": [
    "fig = px.bar(cust_orders.groupby('fullname')['totalamount'].count().sort_values(ascending=False).head(10), text_auto=True , title='No. of orders per customer', labels={'fullname' : 'Full Name', 'value' : 'Frequency'})\n",
    "#customize aspect \n",
    "fig.update_traces(marker_color='rgb(144,200,225)' , marker_line_color='rgb(0,0,0)',marker_line_width=2 , opacity=.5 , textposition='outside')"
   ]
  },
  {
   "cell_type": "markdown",
   "metadata": {},
   "source": [
    " <h1> Multi Variate analysis <h1>\n"
   ]
  },
  {
   "cell_type": "code",
   "execution_count": null,
   "metadata": {},
   "outputs": [],
   "source": [
    "orders.head()"
   ]
  },
  {
   "cell_type": "markdown",
   "metadata": {},
   "source": [
    "<ul>\n",
    "  <li><p> OrderDate vs Country vs Total Amount analysis vs <p></li>\n",
    "</ul>"
   ]
  },
  {
   "cell_type": "code",
   "execution_count": null,
   "metadata": {},
   "outputs": [],
   "source": [
    "multivar = order"
   ]
  },
  {
   "cell_type": "code",
   "execution_count": null,
   "metadata": {},
   "outputs": [],
   "source": []
  },
  {
   "cell_type": "code",
   "execution_count": null,
   "metadata": {},
   "outputs": [],
   "source": []
  }
 ],
 "metadata": {
  "kernelspec": {
   "display_name": "newenv",
   "language": "python",
   "name": "python3"
  },
  "language_info": {
   "codemirror_mode": {
    "name": "ipython",
    "version": 3
   },
   "file_extension": ".py",
   "mimetype": "text/x-python",
   "name": "python",
   "nbconvert_exporter": "python",
   "pygments_lexer": "ipython3",
   "version": "3.11.3"
  },
  "orig_nbformat": 4
 },
 "nbformat": 4,
 "nbformat_minor": 2
}
